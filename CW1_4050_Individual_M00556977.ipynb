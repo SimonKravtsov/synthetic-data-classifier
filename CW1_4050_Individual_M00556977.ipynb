{
 "cells": [
  {
   "cell_type": "markdown",
   "metadata": {},
   "source": [
    "<h1><center>Individual Report</center></h1>\n",
    "By:Simon Kravtsov <br> Student ID:M00556977"
   ]
  },
  {
   "cell_type": "markdown",
   "metadata": {},
   "source": [
    "# Task 1 - Importing and describing dataset"
   ]
  },
  {
   "cell_type": "markdown",
   "metadata": {},
   "source": [
    "Loading syntetic dataset as pandas dataframe"
   ]
  },
  {
   "cell_type": "code",
   "execution_count": 18,
   "metadata": {},
   "outputs": [],
   "source": [
    "import pandas as pd\n",
    "synthetic_data = pd.read_csv('data/synthetic.csv')"
   ]
  },
  {
   "cell_type": "markdown",
   "metadata": {},
   "source": [
    "Summary of data"
   ]
  },
  {
   "cell_type": "code",
   "execution_count": 2,
   "metadata": {
    "scrolled": true
   },
   "outputs": [
    {
     "data": {
      "text/html": [
       "<div>\n",
       "<style scoped>\n",
       "    .dataframe tbody tr th:only-of-type {\n",
       "        vertical-align: middle;\n",
       "    }\n",
       "\n",
       "    .dataframe tbody tr th {\n",
       "        vertical-align: top;\n",
       "    }\n",
       "\n",
       "    .dataframe thead th {\n",
       "        text-align: right;\n",
       "    }\n",
       "</style>\n",
       "<table border=\"1\" class=\"dataframe\">\n",
       "  <thead>\n",
       "    <tr style=\"text-align: right;\">\n",
       "      <th></th>\n",
       "      <th>x1</th>\n",
       "      <th>x2</th>\n",
       "      <th>x3</th>\n",
       "      <th>x4</th>\n",
       "      <th>x5</th>\n",
       "      <th>x6</th>\n",
       "      <th>x7</th>\n",
       "      <th>x8</th>\n",
       "      <th>x9</th>\n",
       "      <th>x10</th>\n",
       "      <th>...</th>\n",
       "      <th>x22</th>\n",
       "      <th>x23</th>\n",
       "      <th>x24</th>\n",
       "      <th>x25</th>\n",
       "      <th>x26</th>\n",
       "      <th>x27</th>\n",
       "      <th>x28</th>\n",
       "      <th>x29</th>\n",
       "      <th>x30</th>\n",
       "      <th>y</th>\n",
       "    </tr>\n",
       "  </thead>\n",
       "  <tbody>\n",
       "    <tr>\n",
       "      <th>count</th>\n",
       "      <td>1000.000000</td>\n",
       "      <td>1000.000000</td>\n",
       "      <td>1000.000000</td>\n",
       "      <td>1000.000000</td>\n",
       "      <td>1000.000000</td>\n",
       "      <td>1000.000000</td>\n",
       "      <td>1000.000000</td>\n",
       "      <td>1000.000000</td>\n",
       "      <td>1000.000000</td>\n",
       "      <td>1000.000000</td>\n",
       "      <td>...</td>\n",
       "      <td>1000.000000</td>\n",
       "      <td>1000.000000</td>\n",
       "      <td>1000.000000</td>\n",
       "      <td>1000.000000</td>\n",
       "      <td>1000.000000</td>\n",
       "      <td>1000.000000</td>\n",
       "      <td>1000.000000</td>\n",
       "      <td>1000.000000</td>\n",
       "      <td>1000.000000</td>\n",
       "      <td>1000.000000</td>\n",
       "    </tr>\n",
       "    <tr>\n",
       "      <th>mean</th>\n",
       "      <td>-13.028746</td>\n",
       "      <td>2.182041</td>\n",
       "      <td>-0.331036</td>\n",
       "      <td>-1.501078</td>\n",
       "      <td>-12.622918</td>\n",
       "      <td>-10.854249</td>\n",
       "      <td>15.199978</td>\n",
       "      <td>-1.989472</td>\n",
       "      <td>6.407913</td>\n",
       "      <td>-2.926042</td>\n",
       "      <td>...</td>\n",
       "      <td>-5.472288</td>\n",
       "      <td>10.543841</td>\n",
       "      <td>-6.003123</td>\n",
       "      <td>3.746927</td>\n",
       "      <td>18.425973</td>\n",
       "      <td>2.742845</td>\n",
       "      <td>3.475475</td>\n",
       "      <td>1.864313</td>\n",
       "      <td>-1.137531</td>\n",
       "      <td>0.145000</td>\n",
       "    </tr>\n",
       "    <tr>\n",
       "      <th>std</th>\n",
       "      <td>3.659720</td>\n",
       "      <td>1.314388</td>\n",
       "      <td>4.259927</td>\n",
       "      <td>1.922640</td>\n",
       "      <td>3.604514</td>\n",
       "      <td>9.750920</td>\n",
       "      <td>7.206344</td>\n",
       "      <td>6.454849</td>\n",
       "      <td>16.872978</td>\n",
       "      <td>0.673362</td>\n",
       "      <td>...</td>\n",
       "      <td>0.272104</td>\n",
       "      <td>8.311382</td>\n",
       "      <td>1.873970</td>\n",
       "      <td>4.962534</td>\n",
       "      <td>6.134947</td>\n",
       "      <td>7.049830</td>\n",
       "      <td>2.048401</td>\n",
       "      <td>10.351793</td>\n",
       "      <td>8.543692</td>\n",
       "      <td>0.352277</td>\n",
       "    </tr>\n",
       "    <tr>\n",
       "      <th>min</th>\n",
       "      <td>-25.548066</td>\n",
       "      <td>-1.599455</td>\n",
       "      <td>-14.930338</td>\n",
       "      <td>-10.215498</td>\n",
       "      <td>-24.600418</td>\n",
       "      <td>-55.753091</td>\n",
       "      <td>-4.320908</td>\n",
       "      <td>-22.643235</td>\n",
       "      <td>-51.040173</td>\n",
       "      <td>-4.907236</td>\n",
       "      <td>...</td>\n",
       "      <td>-6.378320</td>\n",
       "      <td>-14.553686</td>\n",
       "      <td>-12.804169</td>\n",
       "      <td>-10.970233</td>\n",
       "      <td>-1.014732</td>\n",
       "      <td>-18.778590</td>\n",
       "      <td>-2.594584</td>\n",
       "      <td>-30.715194</td>\n",
       "      <td>-27.231646</td>\n",
       "      <td>0.000000</td>\n",
       "    </tr>\n",
       "    <tr>\n",
       "      <th>25%</th>\n",
       "      <td>-15.588659</td>\n",
       "      <td>1.285855</td>\n",
       "      <td>-3.149624</td>\n",
       "      <td>-2.808884</td>\n",
       "      <td>-15.109200</td>\n",
       "      <td>-17.120274</td>\n",
       "      <td>10.231755</td>\n",
       "      <td>-6.188742</td>\n",
       "      <td>-4.853568</td>\n",
       "      <td>-3.383162</td>\n",
       "      <td>...</td>\n",
       "      <td>-5.666194</td>\n",
       "      <td>4.728117</td>\n",
       "      <td>-7.268277</td>\n",
       "      <td>0.279869</td>\n",
       "      <td>14.232877</td>\n",
       "      <td>-2.051034</td>\n",
       "      <td>2.102943</td>\n",
       "      <td>-4.779697</td>\n",
       "      <td>-6.883752</td>\n",
       "      <td>0.000000</td>\n",
       "    </tr>\n",
       "    <tr>\n",
       "      <th>50%</th>\n",
       "      <td>-13.072938</td>\n",
       "      <td>2.170483</td>\n",
       "      <td>-0.367062</td>\n",
       "      <td>-1.510223</td>\n",
       "      <td>-12.498793</td>\n",
       "      <td>-11.170167</td>\n",
       "      <td>15.196222</td>\n",
       "      <td>-2.026093</td>\n",
       "      <td>6.431541</td>\n",
       "      <td>-2.928571</td>\n",
       "      <td>...</td>\n",
       "      <td>-5.467538</td>\n",
       "      <td>10.698797</td>\n",
       "      <td>-5.919298</td>\n",
       "      <td>3.841361</td>\n",
       "      <td>18.301716</td>\n",
       "      <td>2.989103</td>\n",
       "      <td>3.488600</td>\n",
       "      <td>1.362105</td>\n",
       "      <td>-1.012529</td>\n",
       "      <td>0.000000</td>\n",
       "    </tr>\n",
       "    <tr>\n",
       "      <th>75%</th>\n",
       "      <td>-10.534016</td>\n",
       "      <td>3.021294</td>\n",
       "      <td>2.485166</td>\n",
       "      <td>-0.237209</td>\n",
       "      <td>-10.214818</td>\n",
       "      <td>-4.522221</td>\n",
       "      <td>19.901376</td>\n",
       "      <td>2.392737</td>\n",
       "      <td>18.145285</td>\n",
       "      <td>-2.487445</td>\n",
       "      <td>...</td>\n",
       "      <td>-5.287631</td>\n",
       "      <td>16.268073</td>\n",
       "      <td>-4.677299</td>\n",
       "      <td>7.306957</td>\n",
       "      <td>22.495502</td>\n",
       "      <td>7.393532</td>\n",
       "      <td>4.913292</td>\n",
       "      <td>8.998301</td>\n",
       "      <td>4.753629</td>\n",
       "      <td>0.000000</td>\n",
       "    </tr>\n",
       "    <tr>\n",
       "      <th>max</th>\n",
       "      <td>-2.382520</td>\n",
       "      <td>6.026316</td>\n",
       "      <td>14.980421</td>\n",
       "      <td>5.101086</td>\n",
       "      <td>2.182904</td>\n",
       "      <td>23.826332</td>\n",
       "      <td>36.646915</td>\n",
       "      <td>19.820630</td>\n",
       "      <td>55.897492</td>\n",
       "      <td>-0.712244</td>\n",
       "      <td>...</td>\n",
       "      <td>-4.671847</td>\n",
       "      <td>36.154495</td>\n",
       "      <td>-0.188857</td>\n",
       "      <td>20.068337</td>\n",
       "      <td>36.539176</td>\n",
       "      <td>25.577773</td>\n",
       "      <td>9.590002</td>\n",
       "      <td>31.900767</td>\n",
       "      <td>31.280122</td>\n",
       "      <td>1.000000</td>\n",
       "    </tr>\n",
       "  </tbody>\n",
       "</table>\n",
       "<p>8 rows × 31 columns</p>\n",
       "</div>"
      ],
      "text/plain": [
       "                x1           x2           x3           x4           x5  \\\n",
       "count  1000.000000  1000.000000  1000.000000  1000.000000  1000.000000   \n",
       "mean    -13.028746     2.182041    -0.331036    -1.501078   -12.622918   \n",
       "std       3.659720     1.314388     4.259927     1.922640     3.604514   \n",
       "min     -25.548066    -1.599455   -14.930338   -10.215498   -24.600418   \n",
       "25%     -15.588659     1.285855    -3.149624    -2.808884   -15.109200   \n",
       "50%     -13.072938     2.170483    -0.367062    -1.510223   -12.498793   \n",
       "75%     -10.534016     3.021294     2.485166    -0.237209   -10.214818   \n",
       "max      -2.382520     6.026316    14.980421     5.101086     2.182904   \n",
       "\n",
       "                x6           x7           x8           x9          x10  ...  \\\n",
       "count  1000.000000  1000.000000  1000.000000  1000.000000  1000.000000  ...   \n",
       "mean    -10.854249    15.199978    -1.989472     6.407913    -2.926042  ...   \n",
       "std       9.750920     7.206344     6.454849    16.872978     0.673362  ...   \n",
       "min     -55.753091    -4.320908   -22.643235   -51.040173    -4.907236  ...   \n",
       "25%     -17.120274    10.231755    -6.188742    -4.853568    -3.383162  ...   \n",
       "50%     -11.170167    15.196222    -2.026093     6.431541    -2.928571  ...   \n",
       "75%      -4.522221    19.901376     2.392737    18.145285    -2.487445  ...   \n",
       "max      23.826332    36.646915    19.820630    55.897492    -0.712244  ...   \n",
       "\n",
       "               x22          x23          x24          x25          x26  \\\n",
       "count  1000.000000  1000.000000  1000.000000  1000.000000  1000.000000   \n",
       "mean     -5.472288    10.543841    -6.003123     3.746927    18.425973   \n",
       "std       0.272104     8.311382     1.873970     4.962534     6.134947   \n",
       "min      -6.378320   -14.553686   -12.804169   -10.970233    -1.014732   \n",
       "25%      -5.666194     4.728117    -7.268277     0.279869    14.232877   \n",
       "50%      -5.467538    10.698797    -5.919298     3.841361    18.301716   \n",
       "75%      -5.287631    16.268073    -4.677299     7.306957    22.495502   \n",
       "max      -4.671847    36.154495    -0.188857    20.068337    36.539176   \n",
       "\n",
       "               x27          x28          x29          x30            y  \n",
       "count  1000.000000  1000.000000  1000.000000  1000.000000  1000.000000  \n",
       "mean      2.742845     3.475475     1.864313    -1.137531     0.145000  \n",
       "std       7.049830     2.048401    10.351793     8.543692     0.352277  \n",
       "min     -18.778590    -2.594584   -30.715194   -27.231646     0.000000  \n",
       "25%      -2.051034     2.102943    -4.779697    -6.883752     0.000000  \n",
       "50%       2.989103     3.488600     1.362105    -1.012529     0.000000  \n",
       "75%       7.393532     4.913292     8.998301     4.753629     0.000000  \n",
       "max      25.577773     9.590002    31.900767    31.280122     1.000000  \n",
       "\n",
       "[8 rows x 31 columns]"
      ]
     },
     "execution_count": 2,
     "metadata": {},
     "output_type": "execute_result"
    }
   ],
   "source": [
    "synthetic_data.describe()"
   ]
  },
  {
   "cell_type": "markdown",
   "metadata": {},
   "source": [
    "The features have normal distrbution, so we dont need any normalization for the data, however\n",
    "features are not standardized<br>\n",
    "The standardization will be performed later when the data will be split into k-fold, as we want test data to be untouched."
   ]
  },
  {
   "cell_type": "code",
   "execution_count": 5,
   "metadata": {},
   "outputs": [
    {
     "data": {
      "text/plain": [
       "(1000, 31)"
      ]
     },
     "execution_count": 5,
     "metadata": {},
     "output_type": "execute_result"
    }
   ],
   "source": [
    "synthetic_data.shape"
   ]
  },
  {
   "cell_type": "markdown",
   "metadata": {},
   "source": [
    "synthetic data contains 1000 observations, 30 features and 1 dependent variable (y) <br>\n",
    "The features and target are numeric."
   ]
  },
  {
   "cell_type": "markdown",
   "metadata": {},
   "source": [
    "No null values are present in a dataset "
   ]
  },
  {
   "cell_type": "code",
   "execution_count": 402,
   "metadata": {},
   "outputs": [
    {
     "data": {
      "text/plain": [
       "False"
      ]
     },
     "execution_count": 402,
     "metadata": {},
     "output_type": "execute_result"
    }
   ],
   "source": [
    "synthetic_data.isnull().values.any()"
   ]
  },
  {
   "cell_type": "markdown",
   "metadata": {},
   "source": [
    "Counting the occurence of each class in dependend variable to see how balanced is the data"
   ]
  },
  {
   "cell_type": "code",
   "execution_count": 564,
   "metadata": {},
   "outputs": [
    {
     "name": "stdout",
     "output_type": "stream",
     "text": [
      "0    855\n",
      "1    145\n",
      "Name: y, dtype: int64\n"
     ]
    },
    {
     "data": {
      "image/png": "[encoded data removed]",
      "text/plain": [
       "<Figure size 432x288 with 1 Axes>"
      ]
     },
     "metadata": {},
     "output_type": "display_data"
    }
   ],
   "source": [
    "print(synthetic_data.y.value_counts())\n",
    "import seaborn as sns\n",
    "classBalance = sns.countplot(x=\"y\", data=synthetic_data)"
   ]
  },
  {
   "cell_type": "markdown",
   "metadata": {},
   "source": [
    "We can see that the data is very imbalanced, over 85% of data is labeled as class 0. Initial model can be very bais, in fact, if we make a dummy function to only predict 0, it will predict correctly for over 85% of times <br> In further tasks several measures will be taken to try and deal with this problem. "
   ]
  },
  {
   "cell_type": "markdown",
   "metadata": {},
   "source": [
    "# Task 2 - Splitting data into k-fold validation + Validation set "
   ]
  },
  {
   "cell_type": "markdown",
   "metadata": {},
   "source": [
    "The k-fold cross validation + validation step will be used to estimate an unbiased accuracy of a model.<br>\n",
    "For that we will split out data to leave 20% for validation to test it on the final model.<br>"
   ]
  },
  {
   "cell_type": "code",
   "execution_count": 358,
   "metadata": {},
   "outputs": [],
   "source": [
    "import numpy as np\n",
    "data, validation = np.split(synthetic_data.sample(frac=1,random_state=10).reset_index(drop=True), \n",
    "                            [int(.8 * len(synthetic_data))])"
   ]
  },
  {
   "cell_type": "markdown",
   "metadata": {},
   "source": [
    "The frac keyword argument specifies the fraction of rows to return in the random sample,frac=1 means return all rows (in random order)"
   ]
  },
  {
   "cell_type": "code",
   "execution_count": 4,
   "metadata": {},
   "outputs": [
    {
     "data": {
      "text/plain": [
       "(200, 31)"
      ]
     },
     "execution_count": 4,
     "metadata": {},
     "output_type": "execute_result"
    }
   ],
   "source": [
    "validation.shape"
   ]
  },
  {
   "cell_type": "markdown",
   "metadata": {},
   "source": [
    "200 observation will be used to test the final model"
   ]
  },
  {
   "cell_type": "code",
   "execution_count": 360,
   "metadata": {},
   "outputs": [
    {
     "data": {
      "text/plain": [
       "(800, 31)"
      ]
     },
     "execution_count": 360,
     "metadata": {},
     "output_type": "execute_result"
    }
   ],
   "source": [
    "data.shape"
   ]
  },
  {
   "cell_type": "markdown",
   "metadata": {},
   "source": [
    "800 will be used in k-fold validation to tune model"
   ]
  },
  {
   "cell_type": "markdown",
   "metadata": {},
   "source": [
    "10-fold will be used "
   ]
  },
  {
   "cell_type": "code",
   "execution_count": 361,
   "metadata": {},
   "outputs": [
    {
     "data": {
      "text/plain": [
       "10"
      ]
     },
     "execution_count": 361,
     "metadata": {},
     "output_type": "execute_result"
    }
   ],
   "source": [
    "from sklearn.model_selection import KFold\n",
    "kf = KFold(n_splits = 10, shuffle=True, random_state=0)\n",
    "kf.get_n_splits(data)"
   ]
  },
  {
   "cell_type": "markdown",
   "metadata": {},
   "source": [
    "# Task 3 - Balancing dataset ,Training and tunning classification model "
   ]
  },
  {
   "cell_type": "markdown",
   "metadata": {},
   "source": [
    "## Model\n",
    "A **RandomForest** classification algorithm will be used. The following parameters were chosen to be contant:<br>\n",
    "**n_estimators =** 100 (number of trees in the forest)<br>\n",
    "**random_state =** 10 (Controls randomness)<br>\n",
    "**criterion =** 'gini' (function to measure the quality of a split)<br>\n",
    "<br>\n",
    "First algorithm was training to see its initial accuracy. To actimate accuracy of a model, f-score will be used.<br>\n",
    "Now the features can be standardized for trainig set in k fold validaion."
   ]
  },
  {
   "cell_type": "code",
   "execution_count": 375,
   "metadata": {},
   "outputs": [],
   "source": [
    "from sklearn.preprocessing import StandardScaler\n",
    "from sklearn.ensemble import RandomForestClassifier\n",
    "from sklearn.metrics import confusion_matrix, accuracy_score,recall_score, f1_score, precision_score\n",
    "from numpy.core.umath_tests import inner1d\n",
    "sc = StandardScaler()\n",
    "\n",
    "f_score_train = np.array([])\n",
    "f_score_test = np.array([])\n",
    "confusionMatrix =np.array([[0, 0],[0, 0]])\n",
    "\n",
    "\n",
    "for train_index, test_index in kf.split(data):\n",
    "    x_train, x_test = data.loc[train_index].drop(['y'], axis=1), data.loc[test_index].drop(['y'], axis=1)\n",
    "    y_train, y_test = data.loc[train_index][[\"y\"]], data.loc[test_index][[\"y\"]]\n",
    "    \n",
    "    #feature scaling \n",
    "    sc.fit(x_train)\n",
    "    x_train = sc.transform(x_train)\n",
    "    x_test = sc.transform (x_test)\n",
    "    \n",
    "    #defining model\n",
    "    rfc = RandomForestClassifier(n_estimators=100,criterion='gini', random_state=10)\n",
    "    #model training\n",
    "    rfc.fit(x_train, np.ravel(y_train))\n",
    "    #test and train predict\n",
    "    y_test_pred = rfc.predict(x_test)\n",
    "    y_train_pred = rfc.predict(x_train)\n",
    "    \n",
    "    #confusion matrix\n",
    "    cm = confusion_matrix(y_test, y_test_pred)\n",
    "    \n",
    "    TP = cm[0][0]\n",
    "    FN = cm[0][1]\n",
    "    FP = cm[1][0]\n",
    "    TN = cm[1][1]\n",
    "    \n",
    "    #f-score accuracy according to condusion matrixs\n",
    "    fscore_test = f1_score(y_test, y_test_pred, average='macro')\n",
    "    fscore_train = f1_score(y_train, y_train_pred, average='macro')\n",
    "    confusionMatrix = np.add(confusionMatrix,cm)\n",
    "    \n",
    "    fscore_train = np.append(fscore_train,fscore_train)\n",
    "    f_score_test = np.append(f_score_test,fscore_test)"
   ]
  },
  {
   "cell_type": "code",
   "execution_count": 376,
   "metadata": {},
   "outputs": [
    {
     "name": "stdout",
     "output_type": "stream",
     "text": [
      "f-socre Test:  0.4601057189646108\n",
      "f-socre Train:  1.0\n",
      "Confusion Matrix \n",
      " [[682   1]\n",
      " [117   0]]\n",
      "Balanced Accuracy Test:  nan\n"
     ]
    }
   ],
   "source": [
    "balanced_accuracy = (TP/(TP+FP)+TN/(TN+FN))/2\n",
    "print (\"f-socre Test: \",f_score_test.mean())\n",
    "print (\"f-socre Train: \",fscore_train.mean())\n",
    "print (\"Confusion Matrix \\n\",confusionMatrix)\n",
    "print (\"Balanced Accuracy Test: \",balanced_accuracy)"
   ]
  },
  {
   "cell_type": "markdown",
   "metadata": {},
   "source": [
    "A large gap between train and test data can be seen from the results. The model has a high variance (overfitting).<br>\n",
    "From confusion matrix can be seen that the model is not performing well, it predicts well only one of the classes, and didnt predict correctly the other class even once. \n",
    "<br>\n",
    "The balanced accuracy was used according to confusion matrix, as dataset is unbalanced, it should a better overall performance of a model. (it is not defined as one of the classes was not once predicted correctly)"
   ]
  },
  {
   "cell_type": "code",
   "execution_count": 378,
   "metadata": {},
   "outputs": [
    {
     "data": {
      "image/png": "[encoded data removed]",
      "text/plain": [
       "<Figure size 432x288 with 1 Axes>"
      ]
     },
     "metadata": {
      "needs_background": "light"
     },
     "output_type": "display_data"
    }
   ],
   "source": [
    "from sklearn.metrics import roc_auc_score\n",
    "import matplotlib.pyplot as plt\n",
    "from sklearn.metrics import roc_curve\n",
    "# Calculate roc auc\n",
    "roc_value = roc_auc_score(y_test, y_test_pred)\n",
    "\n",
    "fpr, tpr, thresholds = roc_curve(y_test, y_test_pred)\n",
    "\n",
    "def plot_roc_curve(fpr, tpr):\n",
    "    plt.plot(fpr, tpr, color='orange', label='AUC value (area = %0.2f)' % roc_value, lw=2)\n",
    "    plt.plot([0, 1], [0, 1], color='darkblue', linestyle='--')\n",
    "    plt.xlabel('False Positive Rate')\n",
    "    plt.ylabel('True Positive Rate')\n",
    "    plt.title('Receiver Operating Characteristic (ROC) Curve')\n",
    "    plt.legend(fontsize=12, loc=4)\n",
    "    plt.show()\n",
    "\n",
    "plot_roc_curve(fpr, tpr) "
   ]
  },
  {
   "cell_type": "markdown",
   "metadata": {},
   "source": [
    "Roc curve tells us how well classification model is capable of distinguishing between classes. The model is not preforming well as it doesnt even surpass the basline of ROC curve"
   ]
  },
  {
   "cell_type": "markdown",
   "metadata": {},
   "source": [
    "## Balancing dataset \n",
    "\n",
    "Dataset will be balanced to try and solve imbalanced class probelem, so one class won't dominate over the other. <br>\n",
    "3 methods where found to balance dataset (Oversampling minority, Downsampling majority and generating synthetic samples). After trying all 3 of them, the Oversampling minority method displayed the best results for the currect dateset.   "
   ]
  },
  {
   "cell_type": "markdown",
   "metadata": {},
   "source": [
    "### Oversampling minority\n",
    "The test set is untouched with oversampling and standardization.\n",
    "Oversampling before splitting the data can allow the exact same observations to be present in both the test and train sets, which can allow our model to memorize specific data points and cause overfitting and poor generalization to the test data"
   ]
  },
  {
   "cell_type": "code",
   "execution_count": 384,
   "metadata": {},
   "outputs": [],
   "source": [
    "from sklearn.utils import resample\n",
    "sc = StandardScaler()\n",
    "\n",
    "fscores_train = np.array([])\n",
    "fscores_test = np.array([])\n",
    "\n",
    "confusionMatrix_upsample =np.array([[0,0],[0,0]])\n",
    "\n",
    "\n",
    "for train_index, test_index in kf.split(data):\n",
    "    x_train, x_test = data.loc[train_index].drop(['y'], axis=1), data.loc[test_index].drop(['y'], axis=1)\n",
    "    y_train, y_test = data.loc[train_index][[\"y\"]], data.loc[test_index][[\"y\"]]\n",
    "    \n",
    "    #Balancing dataset \n",
    "    X = pd.concat([x_train, y_train], axis=1)\n",
    "    \n",
    "    zero_class = X[X.y==0]\n",
    "    one_class = X[X.y==1]\n",
    "    \n",
    "    oneclass_upsampled = resample(one_class,\n",
    "                          replace=True, # sample with replacement\n",
    "                          n_samples=len(zero_class), # match number in majority class\n",
    "                          random_state=27)\n",
    "    \n",
    "    upsampled = pd.concat([zero_class, oneclass_upsampled])\n",
    "    \n",
    "    \n",
    "    y_train = upsampled[['y']]\n",
    "    x_train = upsampled.loc[:, upsampled.columns != 'y']\n",
    "    \n",
    "    #feature scaling \n",
    "    sc.fit(x_train)\n",
    "    x_train = sc.transform(x_train)\n",
    "    x_test = sc.transform (x_test)\n",
    "\n",
    "\n",
    "    rfc = RandomForestClassifier(random_state=10, n_estimators=100,criterion='gini')\n",
    "    rfc.fit(x_train, y_train.values.ravel())\n",
    "        \n",
    "    y_test_pred_RDF = rfc.predict(x_test)\n",
    "    y_train_pred_RDF = rfc.predict(x_train)\n",
    "        \n",
    "        \n",
    "    #F_score\n",
    "    f_score_test = f1_score(y_test, y_test_pred_RDF, average='macro')\n",
    "    f_score_train = f1_score(y_train, y_train_pred_RDF, average='macro')\n",
    "        \n",
    "    fscores_test_upsample = np.append(fscores_test,f_score_test)\n",
    "    fscores_train_upsample = np.append(fscores_train,f_score_train)\n",
    "        \n",
    "    #confusion matrix\n",
    "    cm = confusion_matrix(y_test, y_test_pred_RDF)\n",
    "    confusionMatrix_upsample = np.add(confusionMatrix_upsample,cm)"
   ]
  },
  {
   "cell_type": "code",
   "execution_count": 381,
   "metadata": {},
   "outputs": [
    {
     "data": {
      "image/png": "[encoded data removed]",
      "text/plain": [
       "<Figure size 432x288 with 1 Axes>"
      ]
     },
     "metadata": {
      "needs_background": "light"
     },
     "output_type": "display_data"
    }
   ],
   "source": [
    "classBalance = sns.countplot(x=\"y\", data=upsampled)"
   ]
  },
  {
   "cell_type": "markdown",
   "metadata": {},
   "source": [
    "Now there is equal number of sample in each class. Dataset is balanced"
   ]
  },
  {
   "cell_type": "code",
   "execution_count": 387,
   "metadata": {},
   "outputs": [
    {
     "name": "stdout",
     "output_type": "stream",
     "text": [
      "F_Score\n",
      "RDF-UPsampling Test:  0.45945945945945943\n",
      "RDF-UPsampling Train:  1.0\n",
      "Confusion Matrix \n",
      " [[681   2]\n",
      " [110   7]]\n"
     ]
    }
   ],
   "source": [
    "print (\"F_Score\")\n",
    "print (\"RDF-UPsampling Test: \", fscores_test_upsample.mean())\n",
    "print (\"RDF-UPsampling Train: \", fscores_train_upsample.mean())\n",
    "print (\"Confusion Matrix \\n\",confusionMatrix_upsample)"
   ]
  },
  {
   "cell_type": "markdown",
   "metadata": {},
   "source": [
    "We still observer high overfitting, as large difference between train and test. The f-score has decreased however, in confusion matrix we can see that algorithm now starts to predict both classes, one classes still better. Tunning now will be performed to try and achieve better f-score."
   ]
  },
  {
   "cell_type": "markdown",
   "metadata": {},
   "source": [
    "## Random forest Parameters tunning"
   ]
  },
  {
   "cell_type": "markdown",
   "metadata": {},
   "source": [
    "## Stoping criteria \n",
    "### Max Features tunning \n",
    "First the main parameter max_features of the tree was tunned to find the best bias variance trade off"
   ]
  },
  {
   "cell_type": "code",
   "execution_count": 144,
   "metadata": {},
   "outputs": [],
   "source": [
    "sc = StandardScaler()\n",
    "\n",
    "avg_fscores_train = np.array([])\n",
    "avg_fscores_test = np.array([])\n",
    "\n",
    "confusionMatrix =np.array([[0, 0],[0, 0]])\n",
    "\n",
    "# full range from 1 to 30 \n",
    "# maxFeatures = list(range(1,data.shape[1]))\n",
    "\n",
    "#ranges \n",
    "maxFeatures = list(range(5,15))\n",
    "for n_features in maxFeatures:\n",
    "    fscores_train = np.array([])\n",
    "    fscores_test = np.array([])\n",
    "    \n",
    "    auc_scores_train = np.array([])\n",
    "    auc_scores_test = np.array([])\n",
    "\n",
    "\n",
    "    for train_index, test_index in kf.split(data):\n",
    "        x_train, x_test = data.loc[train_index].drop(['y'], axis=1), data.loc[test_index].drop(['y'], axis=1)\n",
    "        y_train, y_test = data.loc[train_index][[\"y\"]], data.loc[test_index][[\"y\"]]\n",
    "        \n",
    "        #tranformation \n",
    "        X = pd.concat([x_train, y_train], axis=1)\n",
    "    \n",
    "        zero_class = X[X.y==0]\n",
    "        one_class = X[X.y==1]\n",
    "    \n",
    "        oneclass_upsampled = resample(one_class,\n",
    "                                    replace=True, # sample with replacement\n",
    "                                    n_samples=len(zero_class), # match number in majority class\n",
    "                                    random_state=27)\n",
    "    \n",
    "        upsampled = pd.concat([zero_class, oneclass_upsampled])\n",
    "    \n",
    "    \n",
    "        y_train = np.array(downsampled[['y']])\n",
    "        x_train = np.array(downsampled.loc[:, upsampled.columns != 'y'])\n",
    "\n",
    "\n",
    "        #feature scaling \n",
    "        sc.fit(x_train)\n",
    "        x_train = sc.transform(x_train)\n",
    "        x_test = sc.transform (x_test)\n",
    "\n",
    "        #selecting parameters\n",
    "        rfc = RandomForestClassifier(n_estimators=100, criterion='gini', \n",
    "                                     max_features=n_features, random_state=10)\n",
    "        #training \n",
    "        rfc.fit(x_train, y_train)\n",
    "        \n",
    "        #pred\n",
    "        y_test_pred_RDF = rfc.predict(x_test)\n",
    "        y_train_pred_RDF = rfc.predict(x_train)\n",
    "        \n",
    "        \n",
    "        #F_score\n",
    "        f_score_test = f1_score(y_test, y_test_pred_RDF, average='macro')\n",
    "        f_score_train = f1_score(y_train, y_train_pred_RDF, average='macro')\n",
    "        \n",
    "        fscores_test = np.append(fscores_test,f_score_test)\n",
    "        fscores_train = np.append(fscores_train,f_score_train)\n",
    "        \n",
    "        #confusion matrix\n",
    "        cm = confusion_matrix(y_test, y_test_pred_RDF)\n",
    "        confusionMatrix = np.add(confusionMatrix,cm)\n",
    "        TP = cm[0][0]\n",
    "        FP = cm[0][1]\n",
    "        FN = cm[1][0]\n",
    "        TN = cm[1][1]\n",
    "    \n",
    "    avg_fscores_test = np.append(avg_fscores_test,fscores_test.mean())\n",
    "    avg_fscores_train = np.append(avg_fscores_train,fscores_train.mean()) \n",
    "    \n",
    "    avg_auc_test = np.append(avg_auc_test,auc_scores_test.mean()) \n",
    "    avg_auc_train = np.append(avg_auc_train,auc_scores_train.mean()) "
   ]
  },
  {
   "cell_type": "code",
   "execution_count": 145,
   "metadata": {},
   "outputs": [
    {
     "data": {
      "image/png": "[encoded data removed]",
      "text/plain": [
       "<Figure size 432x288 with 1 Axes>"
      ]
     },
     "metadata": {
      "needs_background": "light"
     },
     "output_type": "display_data"
    }
   ],
   "source": [
    "import matplotlib.pyplot as plt\n",
    "plt.plot(maxFeatures, avg_fscores_test, label= 'F-score on Test')\n",
    "plt.plot(maxFeatures, avg_fscores_train,label= 'F-score on Train')\n",
    "plt.xlabel(\"Max Features\")\n",
    "plt.ylabel(\"F-Score\")\n",
    "plt.legend(loc=0)\n",
    "plt.show()"
   ]
  },
  {
   "cell_type": "code",
   "execution_count": 146,
   "metadata": {},
   "outputs": [
    {
     "name": "stdout",
     "output_type": "stream",
     "text": [
      "Train:  0.7057282287414035\n"
     ]
    }
   ],
   "source": [
    "print (\"Train: \",avg_fscores_test.max())"
   ]
  },
  {
   "cell_type": "markdown",
   "metadata": {},
   "source": [
    "Best bias variance trade off"
   ]
  },
  {
   "cell_type": "code",
   "execution_count": 147,
   "metadata": {
    "scrolled": true
   },
   "outputs": [
    {
     "data": {
      "text/plain": [
       "10"
      ]
     },
     "execution_count": 147,
     "metadata": {},
     "output_type": "execute_result"
    }
   ],
   "source": [
    "tunnedMaxFeatures = maxFeatures[np.argmax(avg_fscores_test)]\n",
    "tunnedMaxFeatures"
   ]
  },
  {
   "cell_type": "markdown",
   "metadata": {},
   "source": [
    "We can observe that the model significantly improved from original 0.46 f-score to 0.7, however there is still very high overfitting for all values of max_features. In this case more parameters will be tunned to try and minimine that overfitting. \n",
    "After some research, the other most common tunning parameter that have impact on overfitting were tried, max depth ,min sample split, min sample leave. (Other like min impurity decrease and min weight fraction leaf parameters that have impact on prunning methods, however the best performing were the default values)"
   ]
  },
  {
   "cell_type": "markdown",
   "metadata": {},
   "source": [
    "### Max Depth\n",
    "maximum depth of the tree"
   ]
  },
  {
   "cell_type": "code",
   "execution_count": 277,
   "metadata": {},
   "outputs": [],
   "source": [
    "sc = StandardScaler()\n",
    "\n",
    "avg_fscores_train = np.array([])\n",
    "avg_fscores_test = np.array([])\n",
    "\n",
    "confusionMatrix =np.array([[0, 0],[0, 0]])\n",
    "\n",
    "#ranges to test \n",
    "maxDepth = range(1,20)\n",
    "for n_depth in maxDepth:\n",
    "    fscores_train = np.array([])\n",
    "    fscores_test = np.array([])\n",
    "    \n",
    "    auc_scores_train = np.array([])\n",
    "    auc_scores_test = np.array([])\n",
    "\n",
    "\n",
    "    for train_index, test_index in kf.split(data):\n",
    "        x_train, x_test = data.loc[train_index].drop(['y'], axis=1), data.loc[test_index].drop(['y'], axis=1)\n",
    "        y_train, y_test = data.loc[train_index][[\"y\"]], data.loc[test_index][[\"y\"]]\n",
    "        \n",
    "        #balancing data\n",
    "        X = pd.concat([x_train, y_train], axis=1)\n",
    "    \n",
    "        zero_class = X[X.y==0]\n",
    "        one_class = X[X.y==1]\n",
    "    \n",
    "        oneclass_upsampled = resample(one_class,\n",
    "                                    replace=True, # sample with replacement\n",
    "                                    n_samples=len(zero_class), # match number in majority class\n",
    "                                    random_state=27)\n",
    "    \n",
    "        upsampled = pd.concat([zero_class, oneclass_upsampled])\n",
    "    \n",
    "    \n",
    "        y_train = np.array(downsampled[['y']])\n",
    "        x_train = np.array(downsampled.loc[:, upsampled.columns != 'y'])\n",
    "\n",
    "\n",
    "        #feature scaling \n",
    "        sc.fit(x_train)\n",
    "        x_train = sc.transform(x_train)\n",
    "        x_test = sc.transform (x_test)\n",
    "\n",
    "        #parameters need, the max features was added from last tunning.\n",
    "        rfc = RandomForestClassifier(n_estimators=100, criterion='gini',\n",
    "                                     max_features=10,\n",
    "                                     max_depth=n_depth, random_state=10)\n",
    "        #train\n",
    "        rfc.fit(x_train, y_train)\n",
    "        \n",
    "        #pred\n",
    "        y_test_pred_RDF = rfc.predict(x_test)\n",
    "        y_train_pred_RDF = rfc.predict(x_train)\n",
    "        \n",
    "        \n",
    "        #F_score\n",
    "        f_score_test = f1_score(y_test, y_test_pred_RDF, average='macro')\n",
    "        f_score_train = f1_score(y_train, y_train_pred_RDF, average='macro')\n",
    "        \n",
    "        fscores_test = np.append(fscores_test,f_score_test)\n",
    "        fscores_train = np.append(fscores_train,f_score_train)\n",
    "        \n",
    "        #confusion matrix\n",
    "        cm = confusion_matrix(y_test, y_test_pred_RDF)\n",
    "        confusionMatrix = np.add(confusionMatrix,cm)\n",
    "        TP = cm[0][0]\n",
    "        FP = cm[0][1]\n",
    "        FN = cm[1][0]\n",
    "        TN = cm[1][1]\n",
    "    \n",
    "    avg_fscores_test = np.append(avg_fscores_test,fscores_test.mean())\n",
    "    avg_fscores_train = np.append(avg_fscores_train,fscores_train.mean()) \n",
    "    \n",
    "    avg_auc_test = np.append(avg_auc_test,auc_scores_test.mean()) \n",
    "    avg_auc_train = np.append(avg_auc_train,auc_scores_train.mean()) \n",
    "    "
   ]
  },
  {
   "cell_type": "code",
   "execution_count": 278,
   "metadata": {},
   "outputs": [
    {
     "data": {
      "image/png": "[encoded data removed]",
      "text/plain": [
       "<Figure size 432x288 with 1 Axes>"
      ]
     },
     "metadata": {
      "needs_background": "light"
     },
     "output_type": "display_data"
    }
   ],
   "source": [
    "import matplotlib.pyplot as plt\n",
    "plt.plot(maxDepth, avg_fscores_test, label= 'F-score on Test')\n",
    "plt.plot(maxDepth, avg_fscores_train,label= 'F-score on Train')\n",
    "plt.xlabel(\"Max Depth\")\n",
    "plt.ylabel(\"F-Score\")\n",
    "plt.legend(loc=0)\n",
    "plt.show()"
   ]
  },
  {
   "cell_type": "code",
   "execution_count": 282,
   "metadata": {},
   "outputs": [
    {
     "data": {
      "text/plain": [
       "16"
      ]
     },
     "execution_count": 282,
     "metadata": {},
     "output_type": "execute_result"
    }
   ],
   "source": [
    "tunnedMaxDepth = maxDepth[np.argmax(avg_fscores_test)]\n",
    "tunnedMaxDepth"
   ]
  },
  {
   "cell_type": "markdown",
   "metadata": {},
   "source": [
    "Again parameter was chosen on the best bias variance trade off"
   ]
  },
  {
   "cell_type": "markdown",
   "metadata": {},
   "source": [
    "### Min sample split \n",
    "minimum number of samples required to split an internal node"
   ]
  },
  {
   "cell_type": "code",
   "execution_count": 389,
   "metadata": {},
   "outputs": [],
   "source": [
    "sc = StandardScaler()\n",
    "\n",
    "avg_fscores_train = np.array([])\n",
    "avg_fscores_test = np.array([])\n",
    "\n",
    "confusionMatrix =np.array([[0, 0],[0, 0]])\n",
    "\n",
    "minSampleSplit = range(1,15)\n",
    "minSampleSplit = np.array(minSampleSplit)/1000\n",
    "for n_minsplit in minSampleSplit:\n",
    "    fscores_train = np.array([])\n",
    "    fscores_test = np.array([])\n",
    "    \n",
    "    auc_scores_train = np.array([])\n",
    "    auc_scores_test = np.array([])\n",
    "\n",
    "\n",
    "    for train_index, test_index in kf.split(data):\n",
    "        x_train, x_test = data.loc[train_index].drop(['y'], axis=1), data.loc[test_index].drop(['y'], axis=1)\n",
    "        y_train, y_test = data.loc[train_index][[\"y\"]], data.loc[test_index][[\"y\"]]\n",
    "        \n",
    "        #tranformation \n",
    "        X = pd.concat([x_train, y_train], axis=1)\n",
    "    \n",
    "        zero_class = data[data.y==0]\n",
    "        one_class = data[data.y==1]\n",
    "        \n",
    "        oneclass_upsampled = resample(one_class,\n",
    "                                    replace=True, # sample with replacement\n",
    "                                    n_samples=len(zero_class), # match number in majority class\n",
    "                                    random_state=27)\n",
    "    \n",
    "        upsampled = pd.concat([zero_class, oneclass_upsampled])\n",
    "    \n",
    "    \n",
    "    \n",
    "        y_train = np.array(downsampled[['y']])\n",
    "        x_train = np.array(downsampled.loc[:, upsampled.columns != 'y'])\n",
    "\n",
    "\n",
    "        #feature scaling \n",
    "        sc.fit(x_train)\n",
    "        x_train = sc.transform(x_train)\n",
    "        x_test = sc.transform (x_test)\n",
    "\n",
    "\n",
    "        rfc = RandomForestClassifier(n_estimators=100, criterion='gini',\n",
    "                                     max_features=10,\n",
    "                                     max_depth= 16,\n",
    "                                     min_samples_split=n_minsplit, random_state=10)\n",
    "        rfc.fit(x_train, y_train)\n",
    "        \n",
    "        y_test_pred_RDF = rfc.predict(x_test)\n",
    "        y_train_pred_RDF = rfc.predict(x_train)\n",
    "        \n",
    "        \n",
    "        #F_score\n",
    "        f_score_test = f1_score(y_test, y_test_pred_RDF, average='macro')\n",
    "        f_score_train = f1_score(y_train, y_train_pred_RDF, average='macro')\n",
    "        \n",
    "        fscores_test = np.append(fscores_test,f_score_test)\n",
    "        fscores_train = np.append(fscores_train,f_score_train)\n",
    "        \n",
    "        #confusion matrix\n",
    "        cm = confusion_matrix(y_test, y_test_pred_RDF)\n",
    "        confusionMatrix = np.add(confusionMatrix,cm)\n",
    "        TP = cm[0][0]\n",
    "        FP = cm[0][1]\n",
    "        FN = cm[1][0]\n",
    "        TN = cm[1][1]\n",
    "    \n",
    "    avg_fscores_test = np.append(avg_fscores_test,fscores_test.mean())\n",
    "    avg_fscores_train = np.append(avg_fscores_train,fscores_train.mean()) \n",
    "    \n",
    "    avg_auc_test = np.append(avg_auc_test,auc_scores_test.mean()) \n",
    "    avg_auc_train = np.append(avg_auc_train,auc_scores_train.mean()) \n",
    "    "
   ]
  },
  {
   "cell_type": "code",
   "execution_count": 390,
   "metadata": {},
   "outputs": [
    {
     "data": {
      "image/png": "[encoded data removed]",
      "text/plain": [
       "<Figure size 432x288 with 1 Axes>"
      ]
     },
     "metadata": {
      "needs_background": "light"
     },
     "output_type": "display_data"
    }
   ],
   "source": [
    "import matplotlib.pyplot as plt\n",
    "plt.plot(minSampleSplit, avg_fscores_test, label= 'F-score on Test')\n",
    "plt.plot(minSampleSplit, avg_fscores_train,label= 'F-score on Train')\n",
    "plt.xlabel(\"Min sample split\")\n",
    "plt.ylabel(\"F-Score\")\n",
    "plt.legend(loc=0)\n",
    "plt.show()"
   ]
  },
  {
   "cell_type": "code",
   "execution_count": 391,
   "metadata": {},
   "outputs": [
    {
     "data": {
      "text/plain": [
       "0.001"
      ]
     },
     "execution_count": 391,
     "metadata": {},
     "output_type": "execute_result"
    }
   ],
   "source": [
    "tunnedMinSampleSplit = minSampleSplit[np.argmax(avg_fscores_test)]\n",
    "tunnedMinSampleSplit"
   ]
  },
  {
   "cell_type": "markdown",
   "metadata": {},
   "source": [
    "## Min Sample leaf\n",
    "minimum number of samples required to be at a leaf node"
   ]
  },
  {
   "cell_type": "code",
   "execution_count": 392,
   "metadata": {},
   "outputs": [],
   "source": [
    "sc = StandardScaler()\n",
    "\n",
    "avg_fscores_train = np.array([])\n",
    "avg_fscores_test = np.array([])\n",
    "\n",
    "confusionMatrix =np.array([[0, 0],[0, 0]])\n",
    "\n",
    "minSampleLeaf = range(1,15)\n",
    "minSampleLeaf = np.array(minSampleLeaf)/1000\n",
    "for n_minleaf in minSampleLeaf:\n",
    "    fscores_train = np.array([])\n",
    "    fscores_test = np.array([])\n",
    "    \n",
    "    auc_scores_train = np.array([])\n",
    "    auc_scores_test = np.array([])\n",
    "\n",
    "\n",
    "    for train_index, test_index in kf.split(data):\n",
    "        x_train, x_test = data.loc[train_index].drop(['y'], axis=1), data.loc[test_index].drop(['y'], axis=1)\n",
    "        y_train, y_test = data.loc[train_index][[\"y\"]], data.loc[test_index][[\"y\"]]\n",
    "        \n",
    "        #tansformation\n",
    "        X = pd.concat([x_train, y_train], axis=1)\n",
    "    \n",
    "        zero_class = X[X.y==0]\n",
    "        one_class = X[X.y==1]\n",
    "    \n",
    "        oneclass_upsampled = resample(one_class,\n",
    "                                    replace=True, # sample with replacement\n",
    "                                    n_samples=len(zero_class), # match number in majority class\n",
    "                                    random_state=27)\n",
    "    \n",
    "        upsampled = pd.concat([zero_class, oneclass_upsampled])\n",
    "    \n",
    "    \n",
    "        y_train = np.array(downsampled[['y']])\n",
    "        x_train = np.array(downsampled.loc[:, upsampled.columns != 'y'])\n",
    "\n",
    "\n",
    "        #feature scaling \n",
    "        sc.fit(x_train)\n",
    "        x_train = sc.transform(x_train)\n",
    "        x_test = sc.transform (x_test)\n",
    "\n",
    "    \n",
    "        rfc = RandomForestClassifier(n_estimators=100, criterion='gini',\n",
    "                                     max_features =10,\n",
    "                                     min_samples_leaf=n_minleaf, random_state=10)\n",
    "        rfc.fit(x_train, y_train)\n",
    "        \n",
    "        y_test_pred_RDF = rfc.predict(x_test)\n",
    "        y_train_pred_RDF = rfc.predict(x_train)\n",
    "        \n",
    "        \n",
    "        #F_score\n",
    "        f_score_test = f1_score(y_test, y_test_pred_RDF, average='macro')\n",
    "        f_score_train = f1_score(y_train, y_train_pred_RDF, average='macro')\n",
    "        \n",
    "        fscores_test = np.append(fscores_test,f_score_test)\n",
    "        fscores_train = np.append(fscores_train,f_score_train)\n",
    "        \n",
    "        #confusion matrix\n",
    "        cm = confusion_matrix(y_test, y_test_pred_RDF)\n",
    "        confusionMatrix = np.add(confusionMatrix,cm)\n",
    "        TP = cm[0][0]\n",
    "        FP = cm[0][1]\n",
    "        FN = cm[1][0]\n",
    "        TN = cm[1][1]\n",
    "    \n",
    "    avg_fscores_test = np.append(avg_fscores_test,fscores_test.mean())\n",
    "    avg_fscores_train = np.append(avg_fscores_train,fscores_train.mean()) \n",
    "    \n",
    "    avg_auc_test = np.append(avg_auc_test,auc_scores_test.mean()) \n",
    "    avg_auc_train = np.append(avg_auc_train,auc_scores_train.mean()) \n",
    "    "
   ]
  },
  {
   "cell_type": "code",
   "execution_count": 395,
   "metadata": {},
   "outputs": [
    {
     "data": {
      "image/png": "[encoded data removed]",
      "text/plain": [
       "<Figure size 432x288 with 1 Axes>"
      ]
     },
     "metadata": {
      "needs_background": "light"
     },
     "output_type": "display_data"
    }
   ],
   "source": [
    "import matplotlib.pyplot as plt\n",
    "plt.plot(minSampleLeaf, avg_fscores_test, label= 'F-score on Test')\n",
    "plt.plot(minSampleLeaf, avg_fscores_train,label= 'F-score on Train')\n",
    "plt.xlabel(\"Min sample leaf\")\n",
    "plt.ylabel(\"F-Score\")\n",
    "plt.legend(loc=0)\n",
    "plt.show()"
   ]
  },
  {
   "cell_type": "code",
   "execution_count": 294,
   "metadata": {},
   "outputs": [
    {
     "data": {
      "text/plain": [
       "0.001"
      ]
     },
     "execution_count": 294,
     "metadata": {},
     "output_type": "execute_result"
    }
   ],
   "source": [
    "tunnedMinSampleLeaf = minSampleLeaf[np.argmax(avg_fscores_test)]\n",
    "tunnedMinSampleLeaf"
   ]
  },
  {
   "cell_type": "markdown",
   "metadata": {},
   "source": [
    "## Using all parameters\n",
    "checking tunned parameters still on k-fold, to see if model need to further re-tunning."
   ]
  },
  {
   "cell_type": "code",
   "execution_count": 396,
   "metadata": {},
   "outputs": [],
   "source": [
    "sc = StandardScaler()\n",
    "\n",
    "\n",
    "avg_fscores_train = np.array([])\n",
    "avg_fscores_test = np.array([])\n",
    "\n",
    "confusionMatrix =np.array([[0, 0],[0, 0]])\n",
    "\n",
    "fscores_train = np.array([])\n",
    "fscores_test = np.array([])\n",
    "    \n",
    "auc_scores_train = np.array([])\n",
    "auc_scores_test = np.array([])\n",
    "\n",
    "for train_index, test_index in kf.split(data):\n",
    "    x_train, x_test = data.loc[train_index].drop(['y'], axis=1), data.loc[test_index].drop(['y'], axis=1)\n",
    "    y_train, y_test = data.loc[train_index][[\"y\"]], data.loc[test_index][[\"y\"]]\n",
    "    \n",
    "    #transformation\n",
    "    zero_class = data[data.y==0]\n",
    "    one_class = data[data.y==1]\n",
    "\n",
    "    oneclass_upsampled = resample(one_class,\n",
    "                            replace=True, # sample with replacement\n",
    "                            n_samples=len(zero_class), # match number in majority class\n",
    "                            random_state=27)\n",
    "\n",
    "    upsampled = pd.concat([zero_class, oneclass_upsampled])\n",
    "\n",
    "    y_train = upsampled[['y']]\n",
    "    x_train = upsampled.loc[:, upsampled.columns != 'y']\n",
    "    \n",
    "    #feature scaling \n",
    "    sc.fit(x_train)\n",
    "    x_train = sc.transform(x_train)\n",
    "    x_test = sc.transform (x_test)\n",
    "\n",
    "\n",
    "    rfc = RandomForestClassifier(n_estimators=100, criterion='gini',random_state=10,\n",
    "                                 max_features=10,\n",
    "                                 max_depth=16,\n",
    "                                 min_samples_leaf=0.001,\n",
    "                                 min_samples_split=0.001\n",
    "                                )\n",
    "    rfc.fit(x_train, y_train)\n",
    "        \n",
    "    y_test_pred_RDF = rfc.predict(x_test)\n",
    "    y_train_pred_RDF = rfc.predict(x_train)\n",
    "        \n",
    "        \n",
    "    #F_score\n",
    "    f_score_test = f1_score(y_test, y_test_pred_RDF, average='macro')\n",
    "    f_score_train = f1_score(y_train, y_train_pred_RDF, average='macro')\n",
    "        \n",
    "    fscores_test = np.append(fscores_test,f_score_test)\n",
    "    fscores_train = np.append(fscores_train,f_score_train)\n",
    "        \n",
    "    #confusion matrix\n",
    "    cm = confusion_matrix(y_test, y_test_pred_RDF)\n",
    "    confusionMatrix = np.add(confusionMatrix,cm)\n",
    "    TP = cm[0][0]\n",
    "    FP = cm[0][1]\n",
    "    FN = cm[1][0]\n",
    "    TN = cm[1][1]\n",
    "    "
   ]
  },
  {
   "cell_type": "code",
   "execution_count": 398,
   "metadata": {},
   "outputs": [
    {
     "name": "stdout",
     "output_type": "stream",
     "text": [
      "Fscore Test:  0.9974611234528721\n",
      "Fscore Train:  1.0\n",
      "[[683   0]\n",
      " [  1 116]]\n"
     ]
    }
   ],
   "source": [
    "print (\"Fscore Test: \",fscores_test.mean())\n",
    "print (\"Fscore Train: \",f_score_train.mean())\n",
    "print (confusionMatrix)"
   ]
  },
  {
   "cell_type": "markdown",
   "metadata": {},
   "source": [
    "From the confusion matrix can be observed that only one incorrect prediction was made. A very small difference between train and test result. However surprisingly very high result, it could be possible that by tuunig on the same dataset we fitted parramters exactly to that dataset. <br> Now the model needs to be tested against validation set to see how well it will perform on the unseen data. "
   ]
  },
  {
   "cell_type": "code",
   "execution_count": 345,
   "metadata": {},
   "outputs": [
    {
     "data": {
      "image/png": "[encoded data removed]",
      "text/plain": [
       "<Figure size 432x288 with 1 Axes>"
      ]
     },
     "metadata": {
      "needs_background": "light"
     },
     "output_type": "display_data"
    }
   ],
   "source": [
    "from sklearn.metrics import roc_auc_score\n",
    "import matplotlib.pyplot as plt\n",
    "from sklearn.metrics import roc_curve\n",
    "# Calculate roc auc\n",
    "roc_value = roc_auc_score(y_test, y_test_pred_RDF)\n",
    "\n",
    "fpr, tpr, thresholds = roc_curve(y_test, y_test_pred_RDF)\n",
    "\n",
    "def plot_roc_curve(fpr, tpr):\n",
    "    plt.plot(fpr, tpr, color='orange', label='AUC value (area = %0.2f)' % roc_value, lw=2)\n",
    "    plt.plot([0, 1], [0, 1], color='darkblue', linestyle='--')\n",
    "    plt.xlabel('False Positive Rate')\n",
    "    plt.ylabel('True Positive Rate')\n",
    "    plt.title('Receiver Operating Characteristic (ROC) Curve')\n",
    "    plt.legend(fontsize=12, loc=4)\n",
    "    plt.show()\n",
    "\n",
    "plot_roc_curve(fpr, tpr)"
   ]
  },
  {
   "cell_type": "markdown",
   "metadata": {},
   "source": [
    "From roc curve tell us that our model can distinguish perfectly between two classes. "
   ]
  },
  {
   "cell_type": "markdown",
   "metadata": {},
   "source": [
    "# Task 4- Evaluating final model with validation set and comparing to a baseline "
   ]
  },
  {
   "cell_type": "markdown",
   "metadata": {},
   "source": [
    "## Making Baseline with Zero Rule Algorithm "
   ]
  },
  {
   "cell_type": "markdown",
   "metadata": {},
   "source": [
    "The following baseline will be use, that take most accurent value for prediction, which will be class 0, and only predicts that value"
   ]
  },
  {
   "cell_type": "code",
   "execution_count": 399,
   "metadata": {},
   "outputs": [
    {
     "name": "stdout",
     "output_type": "stream",
     "text": [
      "Confusion Matrix\n",
      "[[683   0]\n",
      " [117   0]]\n",
      "\n",
      "classification report:\n",
      "balanced accuracy:  nan\n",
      "             precision    recall  f1-score   support\n",
      "\n",
      "    class 0       0.85      1.00      0.92       683\n",
      "    class 1       0.00      0.00      0.00       117\n",
      "\n",
      "avg / total       0.73      0.85      0.79       800\n",
      "\n",
      "f-score-macro: 0.4605529332434255\n"
     ]
    }
   ],
   "source": [
    "# zero rule algorithm for classification\n",
    "import warnings\n",
    "warnings.filterwarnings('ignore')\n",
    "\n",
    "def zero_rule_algorithm_classification(train):\n",
    "    output_values = [row for row in train]\n",
    "    prediction = max(set(output_values), key=output_values.count)\n",
    "    predicted = [prediction for i in range(len(train))]\n",
    "    return predicted\n",
    "\n",
    "#predictions\n",
    "predictions = zero_rule_algorithm_classification (data.y)\n",
    "\n",
    "cm = confusion_matrix(data.y,predictions)\n",
    "    \n",
    "TP = cm[0][0]\n",
    "FN = cm[0][1]\n",
    "FP = cm[1][0]\n",
    "TN = cm[1][1]\n",
    "\n",
    "balanced_accuracy = (TP/(TP+FP)+TN/(TN+FN))/2\n",
    "print (\"Confusion Matrix\")\n",
    "print (cm)\n",
    "precision = TP/(TP+FP)\n",
    "recall = TP/(TP+FN)\n",
    "F1 = 2 * (precision * recall) / (precision + recall)\n",
    "\n",
    "\n",
    "print (\"\\nclassification report:\")\n",
    "print (\"balanced accuracy: \", balanced_accuracy)\n",
    "target_names = ['class 0', 'class 1']\n",
    "print (classification_report(data.y,predictions,target_names=target_names))\n",
    "print (\"f-score-macro:\",f1_score(data.y,predictions,average=\"macro\"))"
   ]
  },
  {
   "cell_type": "markdown",
   "metadata": {},
   "source": [
    "The baseline is only preicting one class as can only be observed from confusion matrix and classification report, the balanced accuracy therefore will be undefined. The macro f-score is very low in, the initial decision tree without tunning any parameter gave us very similar results. "
   ]
  },
  {
   "cell_type": "markdown",
   "metadata": {},
   "source": [
    "We take a macro f-score readings as the data set is imbalanced, as default avg/fscore in classificatoin report is weighted"
   ]
  },
  {
   "cell_type": "code",
   "execution_count": 401,
   "metadata": {},
   "outputs": [
    {
     "data": {
      "image/png": "[encoded data removed]",
      "text/plain": [
       "<Figure size 432x288 with 1 Axes>"
      ]
     },
     "metadata": {
      "needs_background": "light"
     },
     "output_type": "display_data"
    }
   ],
   "source": [
    "from sklearn.metrics import roc_auc_score\n",
    "import matplotlib.pyplot as plt\n",
    "from sklearn.metrics import roc_curve\n",
    "# Calculate roc auc\n",
    "roc_value = roc_auc_score(data.y,predictions)\n",
    "\n",
    "fpr, tpr, thresholds = roc_curve(data.y,predictions)\n",
    "\n",
    "def plot_roc_curve(fpr, tpr):\n",
    "    plt.plot(fpr, tpr, color='orange', label='AUC value(area = %0.2f)' % roc_value, lw=2)\n",
    "    plt.plot([0, 1], [0, 1], color='darkblue', linestyle='--')\n",
    "    plt.xlabel('False Positive Rate')\n",
    "    plt.ylabel('True Positive Rate')\n",
    "    plt.title('Receiver Operating Characteristic (ROC) Curve')\n",
    "    plt.legend(fontsize=12, loc=4)\n",
    "    plt.show()\n",
    "\n",
    "plot_roc_curve(fpr, tpr)"
   ]
  },
  {
   "cell_type": "markdown",
   "metadata": {},
   "source": [
    "Same result was obsereve on the initial run of desicion tree"
   ]
  },
  {
   "cell_type": "markdown",
   "metadata": {},
   "source": [
    "### Testing tunned parameters on validation set \n",
    "Now we can train model with choosen parameters on the whole data, get unbiased accuracy of a model on untouched validation set(unseen data). "
   ]
  },
  {
   "cell_type": "code",
   "execution_count": 354,
   "metadata": {},
   "outputs": [],
   "source": [
    "# splitting data for training and testing \n",
    "x_validation = np.array(validation.drop(['y'], axis=1))\n",
    "y_validation = np.array(validation.y)\n",
    "x_train = np.array(data.drop(['y'], axis=1))\n",
    "y_train = np.array(data.y)\n",
    "\n",
    "#data tranformation to balance classes \n",
    "zero_class = data[data.y==0]\n",
    "one_class = data[data.y==1]\n",
    "    \n",
    "oneclass_upsampled = resample(one_class,\n",
    "                        replace=True, # sample with replacement\n",
    "                        n_samples=len(zero_class), # match number in majority class\n",
    "                        random_state=27)\n",
    "    \n",
    "upsampled = pd.concat([zero_class, oneclass_upsampled])\n",
    "    \n",
    "y_train = upsampled[['y']]\n",
    "x_train = upsampled.loc[:, upsampled.columns != 'y']\n",
    "\n",
    "#Standardize\n",
    "sc.fit(x_train)\n",
    "x_train = sc.transform(x_train)\n",
    "x_validation = sc.transform (x_validation)\n",
    "\n",
    "#params of model\n",
    "rfc = RandomForestClassifier(n_estimators=100, criterion='gini',random_state=10,\n",
    "                             max_features=10,\n",
    "                             max_depth=16,\n",
    "                             min_samples_leaf=0.001,\n",
    "                             min_samples_split=0.001\n",
    "                            )\n",
    "\n",
    "#training\n",
    "rfc.fit(x_train, np.ravel(y_train))\n",
    "\n",
    "#predicting\n",
    "y_val_pred_RDF = rfc.predict(x_validation)\n",
    "trian_pred_RDF = rfc.predict(x_train)\n",
    "\n",
    "f_score_val = f1_score(y_validation, y_val_pred_RDF, average='macro')\n",
    "f_score_train = f1_score(y_train, trian_pred_RDF, average='macro')\n",
    "\n",
    "confusionMatrix = confusion_matrix(y_validation, y_val_pred_RDF)\n",
    "    "
   ]
  },
  {
   "cell_type": "code",
   "execution_count": 355,
   "metadata": {},
   "outputs": [
    {
     "name": "stdout",
     "output_type": "stream",
     "text": [
      "Balanced Accuracy:  0.8177083333333333\n",
      "F-score Test:  0.6336996336996337\n",
      "F-score Train:  1.0\n",
      "Confusion Matrix: \n",
      " [[170   2]\n",
      " [ 22   6]]\n"
     ]
    }
   ],
   "source": [
    "TP = confusionMatrix[0][0]\n",
    "FN = confusionMatrix[0][1]\n",
    "FP = confusionMatrix[1][0]\n",
    "TN = confusionMatrix[1][1]\n",
    "balanced_accuracy = (TP/(TP+FP)+TN/(TN+FN))/2\n",
    "print(\"Balanced Accuracy: \",balanced_accuracy)\n",
    "print (\"F-score Test: \",f_score_val.mean())\n",
    "print (\"F-score Train: \",f_score_train.mean())\n",
    "print (\"Confusion Matrix: \\n\",confusionMatrix)"
   ]
  },
  {
   "cell_type": "markdown",
   "metadata": {},
   "source": [
    "Now it can be seen that the model was over trained in the tunning part, as on the validation set we agin see big difference in train and test, telling us that the model was tunned too fit only train data. The model needs to be retunned to to try and find better values that would give better bias variance traid off on validation set.  \n",
    "From confusion matrix the model got 24 incorect predictions out of 200, the model still predicts one class better then the other, could be that even after balancing training dataset, one class still is better identified than the other. "
   ]
  },
  {
   "cell_type": "code",
   "execution_count": 357,
   "metadata": {},
   "outputs": [
    {
     "data": {
      "image/png": "[encoded data removed]",
      "text/plain": [
       "<Figure size 432x288 with 1 Axes>"
      ]
     },
     "metadata": {
      "needs_background": "light"
     },
     "output_type": "display_data"
    }
   ],
   "source": [
    "# Calculate roc auc\n",
    "roc_value = roc_auc_score(y_validation, y_val_pred_RDF)\n",
    "fpr, tpr, thresholds = roc_curve(y_validation, y_val_pred_RDF)\n",
    "def plot_roc_curve(fpr, tpr):\n",
    "    plt.plot(fpr, tpr, color='orange', label='AUC (area = %0.2f)' % roc_value, lw=2)\n",
    "    plt.plot([0, 1], [0, 1], color='darkblue', linestyle='--')\n",
    "    plt.xlabel('False Positive Rate')\n",
    "    plt.ylabel('True Positive Rate')\n",
    "    plt.title('Receiver Operating Characteristic (ROC) Curve')\n",
    "    plt.legend(fontsize=12, loc=4)\n",
    "    plt.show()\n",
    "\n",
    "plot_roc_curve(fpr, tpr)"
   ]
  },
  {
   "cell_type": "markdown",
   "metadata": {},
   "source": [
    "Roc curve tells us how well classification model is capable of distinguishing between classes. It is an improvment from the from the baseline, however algorithm still doesnt predict well on the validation set(unseen data). "
   ]
  }
 ],
 "metadata": {
  "kernelspec": {
   "display_name": "Python 3",
   "language": "python",
   "name": "python3"
  },
  "language_info": {
   "codemirror_mode": {
    "name": "ipython",
    "version": 3
   },
   "file_extension": ".py",
   "mimetype": "text/x-python",
   "name": "python",
   "nbconvert_exporter": "python",
   "pygments_lexer": "ipython3",
   "version": "3.7.5"
  }
 },
 "nbformat": 4,
 "nbformat_minor": 2
}
